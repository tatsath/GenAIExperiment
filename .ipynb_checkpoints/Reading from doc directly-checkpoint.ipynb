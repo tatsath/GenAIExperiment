{
 "cells": [
  {
   "cell_type": "code",
   "execution_count": 1,
   "id": "562f7cde",
   "metadata": {},
   "outputs": [],
   "source": [
    "import boto3, json\n",
    "\n",
    "session = boto3.Session()\n",
    "bedrock = session.client(service_name='bedrock-runtime')\n"
   ]
  },
  {
   "cell_type": "code",
   "execution_count": 14,
   "id": "862fa74a",
   "metadata": {},
   "outputs": [],
   "source": [
    "with open(\"Downloads/pdfresizer.com-pdf-split.pdf\", \"rb\") as doc_file:\n",
    "    doc_bytes = doc_file.read()\n",
    "\n",
    "doc_message = {\n",
    "    \"role\": \"user\",\n",
    "    \"content\": [\n",
    "        {\n",
    "            \"document\": {\n",
    "                \"name\": \"Document 1\",\n",
    "                \"format\": \"pdf\",\n",
    "                \"source\": {\n",
    "                    \"bytes\": doc_bytes #Look Ma, no base64 encoding!\n",
    "                }\n",
    "            }\n",
    "        },\n",
    "        { \"text\": \"What is Available for sale securities of JP Morgan in 2023?\" }\n",
    "    ]\n",
    "}\n"
   ]
  },
  {
   "cell_type": "code",
   "execution_count": 15,
   "id": "fd365927",
   "metadata": {},
   "outputs": [],
   "source": [
    "response = bedrock.converse(\n",
    "    modelId=\"anthropic.claude-3-sonnet-20240229-v1:0\",\n",
    "    messages=[doc_message],\n",
    "    inferenceConfig={\n",
    "        \"maxTokens\": 2000,\n",
    "        \"temperature\": 0\n",
    "    },\n",
    ")\n"
   ]
  },
  {
   "cell_type": "code",
   "execution_count": 16,
   "id": "902fe3e9",
   "metadata": {},
   "outputs": [
    {
     "name": "stdout",
     "output_type": "stream",
     "text": [
      "According to the consolidated balance sheet data provided in the document, JPMorgan Chase's available-for-sale securities balance as of June 30, 2023 was $203.3 billion.\n",
      "\n",
      "Specifically, the document states:\n",
      "\n",
      "\"Available-for-sale securities $203,262 $205,857 (1)%\"\n",
      "\n",
      "This shows that JPMorgan Chase had $203.3 billion in available-for-sale securities as of June 30, 2023, which was a 1% decrease from the balance of $205.9 billion as of December 31, 2022.\n"
     ]
    }
   ],
   "source": [
    "response_text = response['output']['message']['content'][0]['text']\n",
    "print(response_text)\n"
   ]
  },
  {
   "cell_type": "code",
   "execution_count": null,
   "id": "8894c26c",
   "metadata": {},
   "outputs": [],
   "source": []
  }
 ],
 "metadata": {
  "kernelspec": {
   "display_name": "Python 3 (ipykernel)",
   "language": "python",
   "name": "python3"
  },
  "language_info": {
   "codemirror_mode": {
    "name": "ipython",
    "version": 3
   },
   "file_extension": ".py",
   "mimetype": "text/x-python",
   "name": "python",
   "nbconvert_exporter": "python",
   "pygments_lexer": "ipython3",
   "version": "3.9.13"
  }
 },
 "nbformat": 4,
 "nbformat_minor": 5
}
